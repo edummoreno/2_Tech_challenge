{
  "cells": [
    {
      "cell_type": "code",
      "source": [
        "# Configuração automática – basta apertar Run All\n",
        "!git clone https://github.com/edummoreno/2_Tech_challenge\n",
        "%cd 2_Tech_challenge            # só UM cd!\n",
        "\n",
        "!pip install -r requirements.txt\n",
        "!python -m src.main             # note o -m"
      ],
      "metadata": {
        "id": "Y3SxE0u0wJKO"
      },
      "id": "Y3SxE0u0wJKO",
      "execution_count": null,
      "outputs": []
    }
  ],
  "metadata": {
    "colab": {
      "provenance": []
    },
    "language_info": {
      "name": "python"
    },
    "kernelspec": {
      "name": "python3",
      "display_name": "Python 3"
    }
  },
  "nbformat": 4,
  "nbformat_minor": 5
}