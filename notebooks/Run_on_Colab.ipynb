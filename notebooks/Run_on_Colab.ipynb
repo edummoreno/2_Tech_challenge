{
  "cells": [
    {
      "cell_type": "code",
      "source": [
        "# Configuração automática – basta apertar Run All\n",
        "!git clone https://github.com/edummoreno/2_Tech_challenge\n",
        "%cd 2_Tech_challenge\n",
        "!pip install -r requirements.txt\n",
        "!python src/main.py"
      ],
      "metadata": {
        "id": "rDI3ABPqpaG6"
      },
      "id": "rDI3ABPqpaG6",
      "execution_count": null,
      "outputs": []
    }
  ],
  "metadata": {
    "language_info": {
      "name": "python"
    },
    "colab": {
      "provenance": []
    }
  },
  "nbformat": 4,
  "nbformat_minor": 5
}