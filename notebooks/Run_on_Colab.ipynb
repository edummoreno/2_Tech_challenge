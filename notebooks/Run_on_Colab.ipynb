{
  "cells": [
    {
      "cell_type": "code",
      "execution_count": null,
      "id": "rDI3ABPqpaG6",
      "metadata": {
        "id": "rDI3ABPqpaG6"
      },
      "outputs": [],
      "source": [
        "# Configuração automática – basta apertar Run All\n",
        "!git clone https://github.com/edummoreno/2_Tech_challenge\n",
        "%cd 2_Tech_challenge            # só UM cd!\n",
        "\n",
        "!pip install -r requirements.txt\n",
        "!python -m src.main             # note o -m\n"
      ]
    }
  ],
  "metadata": {
    "colab": {
      "provenance": []
    },
    "language_info": {
      "name": "python"
    }
  },
  "nbformat": 4,
  "nbformat_minor": 5
}
