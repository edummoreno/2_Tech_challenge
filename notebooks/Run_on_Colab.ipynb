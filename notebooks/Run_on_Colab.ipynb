{
  "cells": [
    {
      "cell_type": "code",
      "execution_count": null,
      "id": "Y3SxE0u0wJKO",
      "metadata": {
        "id": "Y3SxE0u0wJKO"
      },
      "outputs": [],
      "source": [
        "# 1. Volte para /content (garante ponto de partida)\n",
        "%cd /content\n",
        "\n",
        "# 2. (Opcional) limpe clonagens antigas\n",
        "!rm -rf 2_Tech_challenge\n",
        "\n",
        "# 3. Clone o repositório\n",
        "!git clone https://github.com/edummoreno/2_Tech_challenge\n",
        "\n",
        "# 4. Entre na pasta clonada\n",
        "%cd 2_Tech_challenge\n",
        "\n",
        "# 5. Instale dependências e execute\n",
        "!pip install -r requirements.txt\n",
        "!python -m src.main\n"
      ]
    }
  ],
  "metadata": {
    "colab": {
      "provenance": []
    },
    "kernelspec": {
      "display_name": "Python 3",
      "name": "python3"
    },
    "language_info": {
      "name": "python"
    }
  },
  "nbformat": 4,
  "nbformat_minor": 5
}
